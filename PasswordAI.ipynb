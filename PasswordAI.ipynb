{
  "nbformat": 4,
  "nbformat_minor": 0,
  "metadata": {
    "colab": {
      "provenance": [],
      "collapsed_sections": [
        "iHMkum0IQnhA",
        "2wv2W2GAQ8ti",
        "SOMs9-EZRHwG",
        "cknNDktvWqNy"
      ],
      "gpuType": "T4"
    },
    "kernelspec": {
      "name": "python3",
      "display_name": "Python 3"
    },
    "language_info": {
      "name": "python"
    },
    "accelerator": "GPU"
  },
  "cells": [
    {
      "cell_type": "code",
      "source": [
        "import pandas as pd\n",
        "import torch\n",
        "from torch import nn\n",
        "from torch.nn import functional as F\n",
        "from torch.utils.data import DataLoader, Dataset\n",
        "from torch.optim import Adam, Optimizer\n",
        "from functools import reduce\n",
        "from matplotlib import pyplot as plt"
      ],
      "metadata": {
        "id": "l77MhXElrYsu"
      },
      "execution_count": 1,
      "outputs": []
    },
    {
      "cell_type": "markdown",
      "source": [
        "# Обработка данных"
      ],
      "metadata": {
        "id": "iHMkum0IQnhA"
      }
    },
    {
      "cell_type": "code",
      "execution_count": 4,
      "metadata": {
        "id": "SjIB7qi6q5_S"
      },
      "outputs": [],
      "source": [
        "# Чтение данных в pandas Dataframe\n",
        "def read_csv(patch: str) -> tuple:\n",
        "    data = pd.read_csv(patch)\n",
        "\n",
        "    return (data[\"password\"], data[\"strength\"])\n",
        "\n",
        "# Разделение слов-паролей на токены-символы\n",
        "def tokenizer(words: list[str]) -> list[list[str]]:\n",
        "    for index, word in enumerate(words):\n",
        "        words[index] = list(word)\n",
        "\n",
        "    return words\n",
        "\n",
        "# Конвертирование паролей в токены\n",
        "def convertPassword(passwords: pd.Series) -> list[list[str]]:\n",
        "    passwords = passwords.to_list()\n",
        "    tokens = tokenizer(passwords)\n",
        "\n",
        "    return tokens\n",
        "\n",
        "# Конвертирование силы пароля в Тензор\n",
        "def convertStrength(strength: pd.Series) -> torch.Tensor:\n",
        "    return torch.tensor(strength.to_list())\n",
        "\n",
        "# Функция merged_list принимает списки из списков токенов, а возвращает одномерный списков токенов\n",
        "merged_list = lambda lists: reduce(lambda result, lst: result.extend(lst) or result, lists, [])"
      ]
    },
    {
      "cell_type": "code",
      "source": [
        "patch = \"passwords.csv\"\n",
        "passwords, strength = read_csv(patch)\n",
        "\n",
        "# Посмотрим распределение классов\n",
        "print(strength.value_counts())\n",
        "# Данные сильно дисбалансированны\n",
        "# Напишем код для функции ошибки, которая возвращает вес для каждого класса\n",
        "weights = len(strength) / strength.value_counts()\n",
        "weight_classes = torch.tensor([\n",
        "    weights[0],\n",
        "    weights[1],\n",
        "    weights[2]\n",
        "], dtype=torch.float)\n",
        "print(weight_classes)"
      ],
      "metadata": {
        "id": "DGCfN028GxOJ",
        "colab": {
          "base_uri": "https://localhost:8080/"
        },
        "outputId": "9d649536-042d-48d2-feb6-d00947f62d32"
      },
      "execution_count": 5,
      "outputs": [
        {
          "output_type": "stream",
          "name": "stdout",
          "text": [
            "1    74278\n",
            "0    13428\n",
            "2    12294\n",
            "Name: strength, dtype: int64\n",
            "tensor([7.4471, 1.3463, 8.1340])\n"
          ]
        }
      ]
    },
    {
      "cell_type": "code",
      "source": [
        "# Посчитаем количество уникальных символов\n",
        "tokens = tokenizer(passwords.to_list())\n",
        "unique_tokens = set(merged_list(tokens))\n",
        "num_unique_tokens = len(unique_tokens) + 1 # Неизвестный токен (<unk>) +1"
      ],
      "metadata": {
        "id": "cJoFk24RlR6D"
      },
      "execution_count": 6,
      "outputs": []
    },
    {
      "cell_type": "code",
      "source": [
        "# Построим график длин всех паролей\n",
        "len_passwords = passwords.apply(lambda x: len(x))\n",
        "f = len_passwords.to_list()\n",
        "plt.hist(f, bins=30)\n",
        "plt.show()\n",
        "# На глаз длинна пароля в 10 символов достаточно\n",
        "max_seq_length = 10"
      ],
      "metadata": {
        "colab": {
          "base_uri": "https://localhost:8080/",
          "height": 430
        },
        "id": "3vwGCSUSXyzu",
        "outputId": "4d8867b6-23d8-4824-d9ee-5b6d61f190d0"
      },
      "execution_count": 7,
      "outputs": [
        {
          "output_type": "display_data",
          "data": {
            "text/plain": [
              "<Figure size 640x480 with 1 Axes>"
            ],
            "image/png": "[encoded data removed]"
          },
          "metadata": {}
        }
      ]
    },
    {
      "cell_type": "code",
      "source": [
        "# Класс словаря, для сопоставленния токенов с числами\n",
        "class Vocab:\n",
        "    def __init__(self, data: list = None) -> None:\n",
        "        self.tokens = {\"<unk>\": 0}\n",
        "        if data is not None:\n",
        "            self.addNewTokens(data)\n",
        "\n",
        "    def __call__(self, tokens: list[list[str]]) -> torch.Tensor:\n",
        "        replace = lambda token: self[token]\n",
        "\n",
        "        for index, word in enumerate(tokens):\n",
        "            word = list(map(replace, word)) # Заменить каждый токен-сомвол на его числовую форму\n",
        "            tokens[index] = torch.tensor(word, dtype=torch.long)\n",
        "\n",
        "        # Заполнить каждый вектор с числовым представлением нулями, неизвестный токен == 0.\n",
        "        # Длинна заполнения == самый длинный пароль\n",
        "        return nn.utils.rnn.pad_sequence(tokens, padding_value=0)\n",
        "\n",
        "    def __getitem__(self, token: str) -> int:\n",
        "        if token not in self.tokens:\n",
        "            return 0\n",
        "\n",
        "        return self.tokens[token]\n",
        "\n",
        "    def addNewTokens(self, tokens: list[list[str]]):\n",
        "        unique_tokens = set(merged_list(tokens)) # Уникальные токены\n",
        "        for token in unique_tokens:\n",
        "            # Добавляем каждый уникальный, ещё не добавленый, токен в словарь\n",
        "            if token in self.tokens:\n",
        "                continue\n",
        "            self.tokens[token] = len(self.tokens)\n",
        "\n",
        "        return self\n",
        "\n",
        "    def save(self, patch: str):\n",
        "        torch.save(self.tokens, patch)\n",
        "\n",
        "        return self\n",
        "\n",
        "    @staticmethod\n",
        "    def load(patch: str):\n",
        "        tokens = torch.load(patch)\n",
        "        vocab = Vocab()\n",
        "        vocab.tokens = tokens\n",
        "\n",
        "        return vocab"
      ],
      "metadata": {
        "id": "wOdXknD5ZnEy"
      },
      "execution_count": 8,
      "outputs": []
    },
    {
      "cell_type": "code",
      "source": [
        "class PasswordDataset(Dataset):\n",
        "    def __init__(self,\n",
        "                 passwords: list[list[str]],\n",
        "                 strength: torch.Tensor,\n",
        "                 vocab: Vocab,\n",
        "                 max_seq_length: int) -> None:\n",
        "        # Обрезать последовательность до максимальной длинны\n",
        "        self.passwords = vocab(passwords)[:max_seq_length]\n",
        "        self.strength = strength\n",
        "\n",
        "    def __len__(self) -> int:\n",
        "        return self.passwords.shape[1]\n",
        "\n",
        "    def __getitem__(self, key: int) -> tuple[torch.Tensor, torch.Tensor]:\n",
        "        return (self.passwords[:, key], self.strength[key])"
      ],
      "metadata": {
        "id": "ku_9brqtrszh"
      },
      "execution_count": 9,
      "outputs": []
    },
    {
      "cell_type": "code",
      "source": [
        "# Собираем все вместе для удобства использования\n",
        "def load_data(patch: str,\n",
        "              max_seq_length: int,\n",
        "              batch_size: int,\n",
        "              shuffle: bool) -> tuple:\n",
        "    passwords, strength = read_csv(patch)\n",
        "    passwords = convertPassword(passwords)\n",
        "    strength = convertStrength(strength)\n",
        "    vocab = Vocab(passwords)\n",
        "    kws_dataset = {\n",
        "        \"passwords\": passwords,\n",
        "        \"strength\": strength,\n",
        "        \"vocab\": vocab,\n",
        "        \"max_seq_length\": max_seq_length,\n",
        "    }\n",
        "    kws_dataloader = {\n",
        "        \"dataset\": PasswordDataset(**kws_dataset),\n",
        "        \"batch_size\": batch_size,\n",
        "        \"shuffle\": shuffle,\n",
        "    }\n",
        "    return (DataLoader(**kws_dataloader), vocab)"
      ],
      "metadata": {
        "id": "MUnZO-hYWWDH"
      },
      "execution_count": 10,
      "outputs": []
    },
    {
      "cell_type": "markdown",
      "source": [
        "# Постраение модели"
      ],
      "metadata": {
        "id": "2wv2W2GAQ8ti"
      }
    },
    {
      "cell_type": "code",
      "source": [
        "# Я решил использовать модель на основе Transformer\n",
        "# Плюсы трансформера в сравнении с рекурентными сетями это отсутствие взрывные/исчезающих градиентов\n",
        "class PasswordAI(nn.Module):\n",
        "    def __init__(self,\n",
        "                 num_embeddings: int,\n",
        "                 embedding_dim: int,\n",
        "                 nhead: int,\n",
        "                 max_seq_length: int) -> None:\n",
        "        super().__init__()\n",
        "        self._positional_encoding(embedding_dim, max_seq_length)\n",
        "        self.properties = {\n",
        "            \"num_embeddings\": num_embeddings,\n",
        "            \"embedding_dim\": embedding_dim,\n",
        "            \"nhead\": nhead,\n",
        "            \"max_seq_length\": max_seq_length,\n",
        "        }\n",
        "        # Вложения слов\n",
        "        self.emb = nn.Embedding(num_embeddings,\n",
        "                                embedding_dim,\n",
        "                                padding_idx=0)\n",
        "        # Слой энкодера\n",
        "        self.transformer = nn.TransformerEncoderLayer(\n",
        "            d_model=embedding_dim,\n",
        "            nhead=nhead,\n",
        "            batch_first=True,\n",
        "        )\n",
        "        # Классификатор\n",
        "        self.classifier = nn.Sequential(\n",
        "            nn.Linear(embedding_dim, 3), nn.LogSoftmax(-1),\n",
        "        )\n",
        "\n",
        "    def forward(self, passwords) -> torch.Tensor:\n",
        "        x = self.emb(passwords) + self.pe\n",
        "        out = self.transformer(x)[:, -1, :]\n",
        "\n",
        "        return self.classifier(out)\n",
        "\n",
        "    def _positional_encoding(self, embedding_dim: int, max_seq_length: int) -> None:\n",
        "        # Обучаемые позиционные кодировки для вложений слов\n",
        "        pe = torch.zeros(max_seq_length, embedding_dim)\n",
        "        position = torch.arange(0, max_seq_length, dtype=torch.float).unsqueeze(1)\n",
        "        div_term = torch.exp(torch.arange(0, embedding_dim, 2).float() * -(9.21 / embedding_dim))\n",
        "\n",
        "        pe[:, 0::2] = torch.sin(position * div_term)\n",
        "        pe[:, 1::2] = torch.cos(position * div_term)\n",
        "        self.pe = nn.Parameter(pe)\n",
        "\n",
        "    def save(self, patch: str):\n",
        "        torch.save([self.properties, self.state_dict()], patch)\n",
        "\n",
        "        return self\n",
        "\n",
        "    @staticmethod\n",
        "    def load(patch: str):\n",
        "        properties, parameters = torch.load(patch)\n",
        "        model = PasswordAI(**properties)\n",
        "        model.load_state_dict(parameters)\n",
        "\n",
        "        return model"
      ],
      "metadata": {
        "id": "VcHwc26qZvC-"
      },
      "execution_count": 11,
      "outputs": []
    },
    {
      "cell_type": "markdown",
      "source": [
        "# Обучение модели"
      ],
      "metadata": {
        "id": "SOMs9-EZRHwG"
      }
    },
    {
      "cell_type": "code",
      "source": [
        "# Функция обучения модели\n",
        "def train(model: PasswordAI,\n",
        "          optimizer: Optimizer,\n",
        "          data: DataLoader,\n",
        "          weight_classes: torch.Tensor,\n",
        "          epochs: int,\n",
        "          device: str) -> None:\n",
        "    weight_classes = weight_classes.to(device)\n",
        "    model.to(device)\n",
        "    model.train()\n",
        "\n",
        "    for epoch in range(1, epochs+1):\n",
        "        error = 0\n",
        "\n",
        "        for batch, (x, y) in enumerate(data, 1):\n",
        "            x, y, = x.to(device), y.to(device)\n",
        "            predict = model(x)\n",
        "            loss = F.nll_loss(predict, y, weight_classes) # LogLoss хорошо подходит для данных с дисбалансом классов\n",
        "            loss.backward()\n",
        "            error += loss.item()\n",
        "            optimizer.step()\n",
        "            optimizer.zero_grad()\n",
        "\n",
        "            if batch % 500 == 0:\n",
        "                print(f'losses: {error/batch:.3f} | batch: {batch}/{len(data)} | epoch: {epoch}')\n",
        "\n",
        "    print(\"\\ntraining completed\")"
      ],
      "metadata": {
        "id": "pFF6afbcycJD"
      },
      "execution_count": 12,
      "outputs": []
    },
    {
      "cell_type": "code",
      "source": [
        "kws_model = {\n",
        "    \"num_embeddings\": num_unique_tokens,\n",
        "    \"embedding_dim\": 100,\n",
        "    \"nhead\": 5,\n",
        "    \"max_seq_length\": max_seq_length,\n",
        "}\n",
        "AI = PasswordAI(**kws_model)\n",
        "\n",
        "kws_optim = {\n",
        "    \"params\": AI.parameters(),\n",
        "    \"lr\": 1e-4,\n",
        "    \"betas\": (0.9, 0.999),\n",
        "    \"weight_decay\": 1e-4, # L2 регуляризация для предотвращения переобучения\n",
        "}\n",
        "optim = Adam(**kws_optim)\n",
        "\n",
        "kws_data = {\n",
        "    \"patch\": \"passwords.csv\",\n",
        "    \"max_seq_length\": kws_model[\"max_seq_length\"],\n",
        "    \"batch_size\": 100,\n",
        "    \"shuffle\": True,\n",
        "}\n",
        "data, vocab = load_data(**kws_data)\n",
        "\n",
        "kws_train = {\n",
        "    \"model\": AI,\n",
        "    \"optimizer\": optim,\n",
        "    \"data\": data,\n",
        "    \"weight_classes\": weight_classes,\n",
        "    \"epochs\": 20,\n",
        "    \"device\": \"cuda\" if torch.cuda.is_available() else \"cpu\",\n",
        "}\n",
        "train(**kws_train)\n",
        "\n",
        "AI.save(\"model.weight.pt\")\n",
        "vocab.save(\"vocab.pt\")"
      ],
      "metadata": {
        "id": "t9ORINKEpP1t",
        "colab": {
          "base_uri": "https://localhost:8080/"
        },
        "outputId": "992a570f-c674-41ee-ff9b-6169c46dbd38"
      },
      "execution_count": 13,
      "outputs": [
        {
          "output_type": "stream",
          "name": "stdout",
          "text": [
            "losses: 0.266 | batch: 500/1000 | epoch: 1\n",
            "losses: 0.196 | batch: 1000/1000 | epoch: 1\n",
            "losses: 0.106 | batch: 500/1000 | epoch: 2\n",
            "losses: 0.100 | batch: 1000/1000 | epoch: 2\n",
            "losses: 0.084 | batch: 500/1000 | epoch: 3\n",
            "losses: 0.084 | batch: 1000/1000 | epoch: 3\n",
            "losses: 0.079 | batch: 500/1000 | epoch: 4\n",
            "losses: 0.078 | batch: 1000/1000 | epoch: 4\n",
            "losses: 0.075 | batch: 500/1000 | epoch: 5\n",
            "losses: 0.073 | batch: 1000/1000 | epoch: 5\n",
            "losses: 0.072 | batch: 500/1000 | epoch: 6\n",
            "losses: 0.070 | batch: 1000/1000 | epoch: 6\n",
            "losses: 0.066 | batch: 500/1000 | epoch: 7\n",
            "losses: 0.067 | batch: 1000/1000 | epoch: 7\n",
            "losses: 0.067 | batch: 500/1000 | epoch: 8\n",
            "losses: 0.065 | batch: 1000/1000 | epoch: 8\n",
            "losses: 0.062 | batch: 500/1000 | epoch: 9\n",
            "losses: 0.064 | batch: 1000/1000 | epoch: 9\n",
            "losses: 0.060 | batch: 500/1000 | epoch: 10\n",
            "losses: 0.061 | batch: 1000/1000 | epoch: 10\n",
            "losses: 0.060 | batch: 500/1000 | epoch: 11\n",
            "losses: 0.060 | batch: 1000/1000 | epoch: 11\n",
            "losses: 0.059 | batch: 500/1000 | epoch: 12\n",
            "losses: 0.059 | batch: 1000/1000 | epoch: 12\n",
            "losses: 0.058 | batch: 500/1000 | epoch: 13\n",
            "losses: 0.058 | batch: 1000/1000 | epoch: 13\n",
            "losses: 0.056 | batch: 500/1000 | epoch: 14\n",
            "losses: 0.057 | batch: 1000/1000 | epoch: 14\n",
            "losses: 0.055 | batch: 500/1000 | epoch: 15\n",
            "losses: 0.056 | batch: 1000/1000 | epoch: 15\n",
            "losses: 0.056 | batch: 500/1000 | epoch: 16\n",
            "losses: 0.055 | batch: 1000/1000 | epoch: 16\n",
            "losses: 0.053 | batch: 500/1000 | epoch: 17\n",
            "losses: 0.054 | batch: 1000/1000 | epoch: 17\n",
            "losses: 0.055 | batch: 500/1000 | epoch: 18\n",
            "losses: 0.054 | batch: 1000/1000 | epoch: 18\n",
            "losses: 0.053 | batch: 500/1000 | epoch: 19\n",
            "losses: 0.053 | batch: 1000/1000 | epoch: 19\n",
            "losses: 0.048 | batch: 500/1000 | epoch: 20\n",
            "losses: 0.052 | batch: 1000/1000 | epoch: 20\n",
            "\n",
            "training completed\n"
          ]
        },
        {
          "output_type": "execute_result",
          "data": {
            "text/plain": [
              "<__main__.Vocab at 0x7c832b5eb520>"
            ]
          },
          "metadata": {},
          "execution_count": 13
        }
      ]
    },
    {
      "cell_type": "markdown",
      "source": [
        "# Проверка своего пароля"
      ],
      "metadata": {
        "id": "cknNDktvWqNy"
      }
    },
    {
      "cell_type": "code",
      "source": [
        "# Перевод из 3 классов надёжности в одно непрерывное число\n",
        "def class_to_reliability(classes: torch.Tensor) -> float:\n",
        "    device = classes.device\n",
        "    weight = torch.tensor([0.0, 0.5, 1.0]).to(device)\n",
        "    return (classes * weight).sum(-1).item()\n",
        "\n",
        "# Показать в удобном виде надёжность пароля\n",
        "def print_reliability(strength: float) -> None:\n",
        "    txt = \"Надёжность пароля - \"\n",
        "    if strength < 0.5: txt += \"слабый\"\n",
        "    elif strength >= 0.5 and strength <= 0.75: txt += \"средний\"\n",
        "    else: txt += \"сильный\"\n",
        "\n",
        "    x = int(20 * strength)\n",
        "    scale = \"#\" * x + \"~\" * (20 - x)\n",
        "    print(txt)\n",
        "    print(scale + f\" ({strength*100:.1f}%)\\n\")\n",
        "\n",
        "# Функция для проверки своего пароля на надёжность\n",
        "def check_password(password: str,\n",
        "                   model: PasswordAI,\n",
        "                   vocab: Vocab,\n",
        "                   device: str = \"cpu\") -> float:\n",
        "    model.eval().to(device)\n",
        "    max_len = model.properties[\"max_seq_length\"]\n",
        "    password = vocab(tokenizer([password]))[:max_len]\n",
        "    if password.size(0) < max_len:\n",
        "        zero = torch.zeros(max_len-password.size(0), 1, dtype=torch.long)\n",
        "        password = torch.cat([password, zero], 0)\n",
        "\n",
        "    password = password.transpose(1, 0).to(device)\n",
        "    predict = F.softmax(model(password)[0], -1)\n",
        "\n",
        "    strength = class_to_reliability(predict)\n",
        "    print_reliability(strength)\n",
        "\n",
        "    return strength"
      ],
      "metadata": {
        "id": "F2XfU6tFWyhh"
      },
      "execution_count": 14,
      "outputs": []
    },
    {
      "cell_type": "code",
      "source": [
        "test = [\n",
        "    \"nurik2004\", # Обычный пароль\n",
        "    \"9HcL\", # Короткий пароль\n",
        "    \"Хелоу_мир!\", # Русских букв в Датасете не было\n",
        "    \"Def Inf\", # Пробелы очень плохо влияют на надёжность\n",
        "    \"H6g79fh7B8\", # Хороший пароль\n",
        "]\n",
        "AI = PasswordAI.load(\"model.weight.pt\")\n",
        "vocab = Vocab.load(\"vocab.pt\")\n",
        "\n",
        "for x in test:\n",
        "    print(x)\n",
        "    check_password(x, AI, vocab)"
      ],
      "metadata": {
        "id": "K69LJ96jXcIx",
        "colab": {
          "base_uri": "https://localhost:8080/"
        },
        "outputId": "46aa7340-579b-4757-bb4e-047fb17b5d07"
      },
      "execution_count": 15,
      "outputs": [
        {
          "output_type": "stream",
          "name": "stdout",
          "text": [
            "nurik2004\n",
            "Надёжность пароля - средний\n",
            "##########~~~~~~~~~~ (50.0%)\n",
            "\n",
            "9HcL\n",
            "Надёжность пароля - слабый\n",
            "~~~~~~~~~~~~~~~~~~~~ (0.0%)\n",
            "\n",
            "Хелоу_мир!\n",
            "Надёжность пароля - средний\n",
            "#############~~~~~~~ (69.3%)\n",
            "\n",
            "Def Inf\n",
            "Надёжность пароля - слабый\n",
            "~~~~~~~~~~~~~~~~~~~~ (0.0%)\n",
            "\n",
            "H6g79fh7B8\n",
            "Надёжность пароля - сильный\n",
            "###################~ (98.9%)\n",
            "\n"
          ]
        }
      ]
    }
  ]
}